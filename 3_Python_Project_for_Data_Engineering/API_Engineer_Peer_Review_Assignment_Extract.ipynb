{
 "cells": [
  {
   "cell_type": "markdown",
   "metadata": {},
   "source": [
    "<center>\n",
    "    <img src=\"https://gitlab.com/ibm/skills-network/courses/placeholder101/-/raw/master/labs/module%201/images/IDSNlogo.png\" width=\"300\" alt=\"cognitiveclass.ai logo\"  />\n",
    "</center>\n"
   ]
  },
  {
   "cell_type": "markdown",
   "metadata": {},
   "source": [
    "# Peer Review Assignment - Data Engineer - Extract API Data\n"
   ]
  },
  {
   "cell_type": "markdown",
   "metadata": {},
   "source": [
    "Estimated time needed: **20** minutes\n"
   ]
  },
  {
   "cell_type": "markdown",
   "metadata": {},
   "source": [
    "## Objectives\n",
    "\n",
    "In this part you will:\n",
    "\n",
    "*   Collect exchange rate data using an API\n",
    "*   Store the data as a CSV\n"
   ]
  },
  {
   "cell_type": "markdown",
   "metadata": {},
   "source": [
    "For this lab, we are going to be using Python and several Python libraries. Some of these libraries might be installed in your lab environment or in SN Labs. Others may need to be installed by you. The cells below will install these libraries when executed.\n"
   ]
  },
  {
   "cell_type": "code",
   "execution_count": 1,
   "metadata": {},
   "outputs": [],
   "source": [
    "#!pip install pandas\n",
    "#!pip install requests"
   ]
  },
  {
   "cell_type": "markdown",
   "metadata": {},
   "source": [
    "## Imports\n",
    "\n",
    "Import any additional libraries you may need here.\n"
   ]
  },
  {
   "cell_type": "code",
   "execution_count": 3,
   "metadata": {},
   "outputs": [],
   "source": [
    "import requests\n",
    "import pandas as pd"
   ]
  },
  {
   "cell_type": "markdown",
   "metadata": {},
   "source": [
    "## Extract Data Using an API\n"
   ]
  },
  {
   "cell_type": "markdown",
   "metadata": {},
   "source": [
    "Using ExchangeRate-API we will extract currency exchange rate data. Use the below steps to get the access key and to get the data.\n",
    "\n",
    "1.  Open the url : [https://exchangeratesapi.io/](https://exchangeratesapi.io/?utm_medium=Exinfluencer&utm_source=Exinfluencer&utm_content=000026UJ&utm_term=10006555&utm_id=NA-SkillsNetwork-Channel-SkillsNetworkCoursesIBMDeveloperSkillsNetworkPY0221ENSkillsNetwork23455645-2021-01-01) and create a free account.\n",
    "2.  Once the account is created. You will get the Get the Free API key option on the top as shown below:\n",
    "\n",
    "<img src=\"https://cf-courses-data.s3.us.cloud-object-storage.appdomain.cloud/IBMDeveloperSkillsNetwork-PY0221EN-SkillsNetwork/labs/module%206/Final%20Assignment/Images/getapi.png\"/>\n",
    "\n",
    "3.  Copy the API key and use in the url in Question 1.\n"
   ]
  },
  {
   "cell_type": "markdown",
   "metadata": {},
   "source": [
    "### Call the API\n",
    "\n",
    "<b> Question 1</b> Using the `requests` library call the endpoint given above and save the text, remember the first few characters of the output:\n"
   ]
  },
  {
   "cell_type": "code",
   "execution_count": 4,
   "metadata": {},
   "outputs": [
    {
     "data": {
      "text/plain": [
       "'{\"success\":true,\"timestamp\":1633603204,\"base\":\"EUR\",\"date\":\"2021-10-07\",\"rates\":{\"AED\":4.245863,\"AFN\":104.042973,\"ALL\":121.324078,\"AMD\":564.010325,\"ANG\":2.07114,\"AOA\":692.165473,\"ARS\":114.341218,\"AUD\":1.586562,\"AWG\":2.081322,\"AZN\":1.96755,\"BAM\":1.956074,\"BBD\":2.32977,\"BDT\":99.088955,\"BGN\":1.958411,\"BHD\":0.435813,\"BIF\":2293.786008,\"BMD\":1.155969,\"BND\":1.571796,\"BOB\":7.967493,\"BRL\":6.349856,\"BSD\":1.153834,\"BTC\":2.1422706e-5,\"BTN\":86.573395,\"BWP\":13.104721,\"BYN\":2.881209,\"BYR\":22656.995058,\"BZD\":2.32589,\"CAD\":1.454284,\"CDF\":2316.561885,\"CHF\":1.071034,\"CLF\":0.034066,\"CLP\":939.987999,\"CNY\":7.452188,\"COP\":4374.418403,\"CRC\":722.28006,\"CUC\":1.155969,\"CUP\":30.633182,\"CVE\":110.27875,\"CZK\":25.404739,\"DJF\":205.413836,\"DKK\":7.439932,\"DOP\":64.905093,\"DZD\":159.056701,\"EGP\":18.149528,\"ERN\":17.345264,\"ETB\":53.442264,\"EUR\":1,\"FJD\":2.424995,\"FKP\":0.835165,\"GBP\":0.850741,\"GEL\":3.635504,\"GGP\":0.835165,\"GHS\":6.991872,\"GIP\":0.835165,\"GMD\":59.651024,\"GNF\":11258.206373,\"GTQ\":8.931014,\"GYD\":241.410101,\"HKD\":8.998827,\"HNL\":27.799466,\"HRK\":7.515649,\"HTG\":113.656172,\"HUF\":358.020998,\"IDR\":16387.24966,\"ILS\":3.732023,\"IMP\":0.835165,\"INR\":86.413606,\"IQD\":1684.660057,\"IRR\":48770.338014,\"ISK\":148.796677,\"JEP\":0.835164,\"JMD\":170.773293,\"JOD\":0.819619,\"JPY\":128.81771,\"KES\":127.968618,\"KGS\":98.04378,\"KHR\":4707.787005,\"KMF\":493.165336,\"KPW\":1040.372239,\"KRW\":1376.239036,\"KWD\":0.348637,\"KYD\":0.96162,\"KZT\":490.681182,\"LAK\":11593.844728,\"LBP\":1766.136921,\"LKR\":230.501296,\"LRD\":197.205868,\"LSL\":17.431854,\"LTL\":3.413277,\"LVL\":0.699234,\"LYD\":5.25281,\"MAD\":10.481207,\"MDL\":20.163391,\"MGA\":4561.3082,\"MKD\":61.63182,\"MMK\":2266.189363,\"MNT\":3282.071249,\"MOP\":9.254454,\"MRO\":412.680783,\"MUR\":49.121823,\"MVR\":17.85947,\"MWK\":940.992471,\"MXN\":23.740835,\"MYR\":4.835996,\"MZN\":73.785891,\"NAD\":17.43167,\"NGN\":476.54851,\"NIO\":40.611064,\"NOK\":9.951611,\"NPR\":138.517271,\"NZD\":1.669508,\"OMR\":0.444392,\"PAB\":1.153944,\"PEN\":4.783428,\"PGK\":4.070708,\"PHP\":58.19784,\"PKR\":197.496978,\"PLN\":4.543886,\"PYG\":7982.695347,\"QAR\":4.208865,\"RON\":4.948011,\"RSD\":117.619666,\"RUB\":83.396248,\"RWF\":1173.236289,\"SAR\":4.335715,\"SBD\":9.311106,\"SCR\":14.835395,\"SDG\":509.782091,\"SEK\":10.15749,\"SGD\":1.570124,\"SHP\":1.592235,\"SLL\":12247.492543,\"SOS\":676.241973,\"SRD\":24.74178,\"STD\":23926.227215,\"SVC\":10.097259,\"SYP\":1453.559771,\"SZL\":17.465427,\"THB\":39.06028,\"TJS\":13.061829,\"TMT\":4.045892,\"TND\":3.278906,\"TOP\":2.622772,\"TRY\":10.26363,\"TTD\":7.830576,\"TWD\":32.338815,\"TZS\":2663.353164,\"UAH\":30.375425,\"UGX\":4113.512906,\"USD\":1.155969,\"UYU\":49.628188,\"UZS\":12332.677738,\"VEF\":247181137286.4467,\"VND\":26309.857527,\"VUV\":129.042837,\"WST\":2.95965,\"XAF\":656.033124,\"XAG\":0.05089,\"XAU\":0.000656,\"XCD\":3.124064,\"XDR\":0.816795,\"XOF\":656.033124,\"XPF\":119.866178,\"YER\":289.397247,\"ZAR\":17.247175,\"ZMK\":10405.111071,\"ZMW\":19.656251,\"ZWL\":372.22159}}'"
      ]
     },
     "execution_count": 4,
     "metadata": {},
     "output_type": "execute_result"
    }
   ],
   "source": [
    "# Write your code here\n",
    "url = \"http://api.exchangeratesapi.io/v1/latest?base=EUR&access_key=d03dafc97c9592fa25c7c4d9ee57f8f7\"  #Make sure to change ******* to your API key.\n",
    "data_api=requests.get(url).text\n",
    "data_api"
   ]
  },
  {
   "cell_type": "markdown",
   "metadata": {},
   "source": [
    "### Save as DataFrame\n",
    "\n",
    "<b> Question 2</b>  Using the data gathered turn it into a `pandas` dataframe. The dataframe should have the Currency as the index and `Rate` as their columns. Make sure to drop unnecessary columns.\n"
   ]
  },
  {
   "cell_type": "code",
   "execution_count": 5,
   "metadata": {},
   "outputs": [
    {
     "data": {
      "text/plain": [
       "Currency\n",
       "AED        4.245863\n",
       "AFN      104.042973\n",
       "ALL      121.324078\n",
       "AMD      564.010325\n",
       "ANG        2.071140\n",
       "           ...     \n",
       "YER      289.397247\n",
       "ZAR       17.247175\n",
       "ZMK    10405.111071\n",
       "ZMW       19.656251\n",
       "ZWL      372.221590\n",
       "Name: Rate, Length: 168, dtype: float64"
      ]
     },
     "execution_count": 5,
     "metadata": {},
     "output_type": "execute_result"
    }
   ],
   "source": [
    "# Turn the data into a dataframe\n",
    "#df = pd.DataFrame(data=data_api,columns=['Currency','Rate'],index='Currency')\n",
    "df = pd.read_json(data_api).rename(columns={'rates':'Rate'})['Rate']\n",
    "df.index.names = ['Currency']\n",
    "\n",
    "type(data_api)\n",
    "df"
   ]
  },
  {
   "cell_type": "code",
   "execution_count": 6,
   "metadata": {},
   "outputs": [],
   "source": [
    "# Drop unnescessary columns\n"
   ]
  },
  {
   "cell_type": "markdown",
   "metadata": {},
   "source": [
    "### Load the Data\n",
    "\n",
    "Using the dataframe save it as a CSV names `exchange_rates_1.csv`.\n"
   ]
  },
  {
   "cell_type": "code",
   "execution_count": 7,
   "metadata": {},
   "outputs": [],
   "source": [
    "# Save the Dataframe\n",
    "df.to_csv(\"./exchange_rates_1.csv\", encoding='utf-8', index=True,header=True)\n"
   ]
  },
  {
   "cell_type": "markdown",
   "metadata": {},
   "source": [
    "Your CSV should be in this format with more currencies\n",
    "\n",
    "|     | Rates      |\n",
    "| --- | ---------- |\n",
    "| AED | 4.398618   |\n",
    "| AFN | 92.917693  |\n",
    "| ALL | 123.099093 |\n",
    "| AMD | 621.935674 |\n",
    "| ANG | 2.149648   |\n"
   ]
  },
  {
   "cell_type": "markdown",
   "metadata": {},
   "source": [
    "## Authors\n"
   ]
  },
  {
   "cell_type": "markdown",
   "metadata": {},
   "source": [
    "Ramesh Sannareddy, Joseph Santarcangelo and Azim Hirjani\n"
   ]
  },
  {
   "cell_type": "markdown",
   "metadata": {},
   "source": [
    "### Other Contributors\n"
   ]
  },
  {
   "cell_type": "markdown",
   "metadata": {},
   "source": [
    "Rav Ahuja\n"
   ]
  },
  {
   "cell_type": "markdown",
   "metadata": {},
   "source": [
    "## Change Log\n"
   ]
  },
  {
   "cell_type": "markdown",
   "metadata": {},
   "source": [
    "| Date (YYYY-MM-DD) | Version | Changed By        | Change Description                 |\n",
    "| ----------------- | ------- | ----------------- | ---------------------------------- |\n",
    "| 2021-04-15        | 0.2     | Malika            | Updated the lab from USD to EUR    |\n",
    "| 2020-11-25        | 0.1     | Ramesh Sannareddy | Created initial version of the lab |\n"
   ]
  },
  {
   "cell_type": "markdown",
   "metadata": {},
   "source": [
    "Copyright © 2020 IBM Corporation. This notebook and its source code are released under the terms of the [MIT License](https://cognitiveclass.ai/mit-license?utm_medium=Exinfluencer&utm_source=Exinfluencer&utm_content=000026UJ&utm_term=10006555&utm_id=NA-SkillsNetwork-Channel-SkillsNetworkCoursesIBMDeveloperSkillsNetworkPY0221ENSkillsNetwork23455645-2021-01-01&cm_mmc=Email_Newsletter-\\_-Developer_Ed%2BTech-\\_-WW_WW-\\_-SkillsNetwork-Courses-IBM-DA0321EN-SkillsNetwork-21426264&cm_mmca1=000026UJ&cm_mmca2=10006555&cm_mmca3=M12345678&cvosrc=email.Newsletter.M12345678&cvo_campaign=000026UJ).\n"
   ]
  }
 ],
 "metadata": {
  "kernelspec": {
   "display_name": "Python",
   "language": "python",
   "name": "conda-env-python-py"
  },
  "language_info": {
   "codemirror_mode": {
    "name": "ipython",
    "version": 3
   },
   "file_extension": ".py",
   "mimetype": "text/x-python",
   "name": "python",
   "nbconvert_exporter": "python",
   "pygments_lexer": "ipython3",
   "version": "3.7.10"
  }
 },
 "nbformat": 4,
 "nbformat_minor": 4
}
